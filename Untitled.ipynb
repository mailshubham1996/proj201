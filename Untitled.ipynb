{
 "cells": [
  {
   "cell_type": "code",
   "execution_count": 1,
   "metadata": {},
   "outputs": [
    {
     "data": {
      "text/plain": [
       "'C:\\\\Users\\\\Shubham'"
      ]
     },
     "execution_count": 1,
     "metadata": {},
     "output_type": "execute_result"
    }
   ],
   "source": [
    "import numpy as np\n",
    "import cv2\n",
    "from matplotlib import pyplot as plt\n",
    "import os\n",
    "from sklearn.cluster import KMeans\n",
    "from scipy.cluster.vq import kmeans,vq,whiten\n",
    "from sklearn.decomposition import PCA\n",
    "from sklearn.svm import SVC\n",
    "os.getcwd()"
   ]
  },
  {
   "cell_type": "code",
   "execution_count": 11,
   "metadata": {},
   "outputs": [],
   "source": [
    "path=\"C:/proj/images/train/\"\n",
    "\n",
    "dictionarySize=3000\n"
   ]
  },
  {
   "cell_type": "code",
   "execution_count": 12,
   "metadata": {},
   "outputs": [],
   "source": [
    "BOW=cv2.BOWKMeansTrainer(dictionarySize)\n",
    "sift=cv2.xfeatures2d.SIFT_create()"
   ]
  },
  {
   "cell_type": "code",
   "execution_count": 13,
   "metadata": {},
   "outputs": [],
   "source": [
    "for i,filename in enumerate(os.listdir(path)):\n",
    "    img1=cv2.imread(path+filename,0)\n",
    "    kp,des=sift.detectAndCompute(img1,None)\n",
    "    BOW.add(des)"
   ]
  },
  {
   "cell_type": "code",
   "execution_count": 14,
   "metadata": {},
   "outputs": [],
   "source": [
    "FLANN_INDEX_KDTREE = 0\n",
    "dictionary=BOW.cluster()\n",
    "\n",
    "flann_params = dict(algorithm =FLANN_INDEX_KDTREE , trees = 5)\n",
    "matcher = cv2.FlannBasedMatcher(flann_params, {}) \n",
    "bow_extract = cv2.BOWImgDescriptorExtractor( sift , matcher )\n",
    "bow_extract.setVocabulary(dictionary) "
   ]
  },
  {
   "cell_type": "code",
   "execution_count": 15,
   "metadata": {},
   "outputs": [],
   "source": [
    "traindata=[]\n",
    "trainlabels=[]\n",
    "s=\" \"\n",
    "index=0"
   ]
  },
  {
   "cell_type": "code",
   "execution_count": 16,
   "metadata": {},
   "outputs": [],
   "source": [
    "for i ,filename in enumerate(os.listdir(path)):\n",
    "    img1=cv2.imread(path+filename,0)\n",
    "    siftkp=sift.detect(img1)\n",
    "    bowsig=bow_extract.compute(img1,siftkp)\n",
    "    traindata.extend(bowsig)\n",
    "    s=\" \"\n",
    "    s=filename\n",
    "    index=s.find(\".\")\n",
    "    s=s[0:index]\n",
    "    s=int(float(s))\n",
    "    if s<1000:# means label of diseased leaf\n",
    "        trainlabels.append(0)\n",
    "    elif s>=1000:\n",
    "        trainlabels.append(1)"
   ]
  },
  {
   "cell_type": "code",
   "execution_count": 70,
   "metadata": {},
   "outputs": [],
   "source": [
    "svm=cv2.ml.SVM_create()\n",
    "svm.train(np.array(traindata),cv2.ml.ROW_SAMPLE,np.array(trainlabels))#x_train y_train\n",
    "\n",
    "\n",
    "path2=\"C:/proj/images/test/31.png\""
   ]
  },
  {
   "cell_type": "code",
   "execution_count": 71,
   "metadata": {},
   "outputs": [],
   "source": [
    "imgtest=cv2.imread(path2,0)\n",
    "siftkp2=sift.detect(imgtest,None)\n",
    "bowsig=bow_extract.compute(imgtest,siftkp2)"
   ]
  },
  {
   "cell_type": "code",
   "execution_count": 67,
   "metadata": {},
   "outputs": [
    {
     "data": {
      "text/plain": [
       "SVC(C=1.0, cache_size=200, class_weight=None, coef0=0.0,\n",
       "  decision_function_shape='ovr', degree=3, gamma='auto', kernel='rbf',\n",
       "  max_iter=-1, probability=True, random_state=None, shrinking=True,\n",
       "  tol=0.001, verbose=False)"
      ]
     },
     "execution_count": 67,
     "metadata": {},
     "output_type": "execute_result"
    }
   ],
   "source": [
    "p=svm.predict(bowsig)\n",
    "svm2=SVC(probability=True)\n",
    "svm2.fit(np.array(traindata),np.array(trainlabels))"
   ]
  },
  {
   "cell_type": "code",
   "execution_count": 72,
   "metadata": {},
   "outputs": [
    {
     "name": "stdout",
     "output_type": "stream",
     "text": [
      "(0.0, array([[ 0.]], dtype=float32))\n",
      "[[ 0.16578763  0.83421237]]\n"
     ]
    }
   ],
   "source": [
    "q=svm2.predict_proba(bowsig)\n",
    "print(p)\n",
    "print(q)\n",
    "\n",
    "#aim is to make least false negative predictions from svm"
   ]
  }
 ],
 "metadata": {
  "kernelspec": {
   "display_name": "Python 3",
   "language": "python",
   "name": "python3"
  },
  "language_info": {
   "codemirror_mode": {
    "name": "ipython",
    "version": 3
   },
   "file_extension": ".py",
   "mimetype": "text/x-python",
   "name": "python",
   "nbconvert_exporter": "python",
   "pygments_lexer": "ipython3",
   "version": "3.6.2"
  }
 },
 "nbformat": 4,
 "nbformat_minor": 2
}
